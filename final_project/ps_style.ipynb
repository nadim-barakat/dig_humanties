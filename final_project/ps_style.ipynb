{
 "cells": [
  {
   "cell_type": "code",
   "execution_count": null,
   "metadata": {},
   "outputs": [],
   "source": [
    "# code modified from digital historian \n",
    "# https://programminghistorian.org/en/lessons/introduction-to-stylometry-with-python"
   ]
  },
  {
   "cell_type": "code",
   "execution_count": 88,
   "metadata": {},
   "outputs": [],
   "source": [
    "papers = {\n",
    "    'Stephen': ['stephen_misery', 'stephen_it', \n",
    "                'stephen_bag_of_bones', 'stephen_insomnia', \n",
    "                'stephen_the_shining'],\n",
    "    'Richard': ['richard_rage', 'richard_long_walk', \n",
    "                'richard_regulators', 'richard_running_man', \n",
    "                'richard_thinner', ],\n",
    "    'Disputed': ['richard_roadwork'],\n",
    "    'TestCase': ['stephen_pet_sementary']\n",
    "}"
   ]
  },
  {
   "cell_type": "code",
   "execution_count": 90,
   "metadata": {},
   "outputs": [],
   "source": [
    "import os\n",
    "import matplotlib"
   ]
  },
  {
   "cell_type": "code",
   "execution_count": 91,
   "metadata": {},
   "outputs": [
    {
     "name": "stdout",
     "output_type": "stream",
     "text": [
      "books/stephen_misery.txt\n",
      "books/richard_regulators.txt\n",
      "books/richard_rage.txt\n",
      "books/stephen_it.txt\n",
      "books/richard_long_walk.txt\n",
      "books/richard_roadwork.txt\n",
      "books/stephen_pet_sementary.txt\n",
      "books/richard_running_man.txt\n",
      "books/stephen_bag_of_bones.txt\n",
      "books/stephen_insomnia.txt\n",
      "books/stephen_the_shining.txt\n",
      "books/richard_thinner.txt\n"
     ]
    }
   ],
   "source": [
    "books_dir = 'books'\n",
    "\n",
    "for filename in os.listdir(books_dir):\n",
    "    if filename.endswith('.txt'):\n",
    "        print(os.path.join(books_dir, filename))"
   ]
  },
  {
   "cell_type": "code",
   "execution_count": 92,
   "metadata": {},
   "outputs": [],
   "source": [
    "# A function that compiles all of the text files associated with a single author into a single string\n",
    "def read_files_into_string(filenames):\n",
    "    strings = []\n",
    "    for filename in filenames:\n",
    "        with open(f'books/{filename}.txt', 'r') as f:\n",
    "            strings.append(f.read())\n",
    "    return '\\n'.join(strings)"
   ]
  },
  {
   "cell_type": "code",
   "execution_count": 93,
   "metadata": {},
   "outputs": [],
   "source": [
    "# Make a dictionary out of the authors' corpora\n",
    "books_by_author = {}\n",
    "for author, files in papers.items():\n",
    "    books_by_author[author] = read_files_into_string(files)"
   ]
  },
  {
   "cell_type": "code",
   "execution_count": 94,
   "metadata": {},
   "outputs": [
    {
     "name": "stdout",
     "output_type": "stream",
     "text": [
      " she is more than a rabid reader—she is Paul’s nurse, tending his \n",
      "shattered body after an automobil\n",
      "e and Ted Jones. I \n",
      "was keeping an eye on him, I can tell you. The squirrel, not Ted. \n",
      "\n",
      "On the board\n",
      " \n",
      "The Green Mile \n",
      "THE DARK TOWER IV: \n",
      "Wizard and Glass \n",
      "Bag of Bones \n",
      "The Girl Who Loved Tom \n",
      "Gordon\n",
      "s a person ... or, more properly, as a \n",
      "Person. \n",
      "\n",
      "Here are some people who have not written books, t\n"
     ]
    }
   ],
   "source": [
    "#prints section of authors' books to show we have actual words saved\n",
    "for author in papers:\n",
    "    print(books_by_author[author][2000:2100])"
   ]
  },
  {
   "cell_type": "code",
   "execution_count": 95,
   "metadata": {},
   "outputs": [
    {
     "name": "stderr",
     "output_type": "stream",
     "text": [
      "[nltk_data] Downloading package punkt to /Users/nadim/nltk_data...\n",
      "[nltk_data]   Package punkt is already up-to-date!\n"
     ]
    },
    {
     "data": {
      "image/png": "[encoded data removed]",
      "text/plain": [
       "<Figure size 640x480 with 1 Axes>"
      ]
     },
     "metadata": {},
     "output_type": "display_data"
    },
    {
     "data": {
      "text/plain": [
       "<Axes: title={'center': 'Disputed'}, xlabel='Samples', ylabel='Counts'>"
      ]
     },
     "execution_count": 95,
     "metadata": {},
     "output_type": "execute_result"
    }
   ],
   "source": [
    "# Load nltk\n",
    "import nltk\n",
    "nltk.download('punkt')\n",
    "%matplotlib inline\n",
    "\n",
    "# Compare the disputed papers to those written by everyone,\n",
    "# including the shared ones.\n",
    "authors = (\"Stephen\", \"Richard\", \"Disputed\")\n",
    "\n",
    "# Transform the authors' corpora into lists of word tokens\n",
    "books_by_author_tokens = {}\n",
    "books_by_author_length_distributions = {}\n",
    "for author in authors:\n",
    "    tokens = nltk.word_tokenize(books_by_author[author])\n",
    "\n",
    "    # Filter out punctuation\n",
    "    books_by_author_tokens[author] = ([token for token in tokens\n",
    "                                            if any(c.isalpha() for c in token)])\n",
    "\n",
    "# Get a distribution of token lengths\n",
    "token_lengths = [len(token) for token in books_by_author_tokens[author]]\n",
    "books_by_author_length_distributions[author] = nltk.FreqDist(token_lengths)\n",
    "books_by_author_length_distributions[author].plot(15,title=author)"
   ]
  },
  {
   "cell_type": "code",
   "execution_count": 96,
   "metadata": {},
   "outputs": [
    {
     "name": "stdout",
     "output_type": "stream",
     "text": [
      "The Chi-squared statistic for candidate Stephen is 6485.281708353993\n",
      "The Chi-squared statistic for candidate Richard is 6256.548363420384\n"
     ]
    }
   ],
   "source": [
    "# Who are the authors we are analyzing?\n",
    "authors = (\"Stephen\", \"Richard\")\n",
    "\n",
    "# Lower case the tokens so that the same word, capitalized or not,\n",
    "# counts as one word\n",
    "for author in authors:\n",
    "    books_by_author_tokens[author] = (\n",
    "        [token.lower() for token in books_by_author_tokens[author]])\n",
    "books_by_author_tokens[\"Disputed\"] = (\n",
    "    [token.lower() for token in books_by_author_tokens[\"Disputed\"]])\n",
    "\n",
    "# Calculate chisquared for each of the two candidate authors\n",
    "for author in authors:\n",
    "\n",
    "    # First, build a joint corpus and identify the 500 most frequent words in it\n",
    "    joint_corpus = (books_by_author_tokens[author] +\n",
    "                    books_by_author_tokens[\"Disputed\"])\n",
    "    joint_freq_dist = nltk.FreqDist(joint_corpus)\n",
    "    most_common = list(joint_freq_dist.most_common(500))\n",
    "\n",
    "    # What proportion of the joint corpus is made up\n",
    "    # of the candidate author's tokens?\n",
    "    author_share = (len(books_by_author_tokens[author])\n",
    "                    / len(joint_corpus))\n",
    "\n",
    "    # Now, let's look at the 500 most common words in the candidate\n",
    "    # author's corpus and compare the number of times they can be observed\n",
    "    # to what would be expected if the author's papers\n",
    "    # and the Disputed papers were both random samples from the same distribution.\n",
    "    chisquared = 0\n",
    "    for word,joint_count in most_common:\n",
    "\n",
    "        # How often do we really see this common word?\n",
    "        author_count = books_by_author_tokens[author].count(word)\n",
    "        disputed_count = books_by_author_tokens[\"Disputed\"].count(word)\n",
    "\n",
    "        # How often should we see it?\n",
    "        expected_author_count = joint_count * author_share\n",
    "        expected_disputed_count = joint_count * (1-author_share)\n",
    "\n",
    "        # Add the word's contribution to the chi-squared statistic\n",
    "        chisquared += ((author_count-expected_author_count) *\n",
    "                       (author_count-expected_author_count) /\n",
    "                       expected_author_count)\n",
    "\n",
    "        chisquared += ((disputed_count-expected_disputed_count) *\n",
    "                       (disputed_count-expected_disputed_count)\n",
    "                       / expected_disputed_count)\n",
    "\n",
    "    print(\"The Chi-squared statistic for candidate\", author, \"is\", chisquared)"
   ]
  },
  {
   "cell_type": "code",
   "execution_count": 97,
   "metadata": {},
   "outputs": [
    {
     "data": {
      "text/plain": [
       "[('the', 89216), ('and', 47675), ('a', 39898)]"
      ]
     },
     "execution_count": 97,
     "metadata": {},
     "output_type": "execute_result"
    }
   ],
   "source": [
    "# Who are we dealing with this time?\n",
    "authors = (\"Stephen\", \"Richard\", \"Disputed\")\n",
    "\n",
    "# Convert papers to lowercase to count all tokens of the same word together\n",
    "# regardless of case\n",
    "for author in authors:\n",
    "    books_by_author_tokens[author] = (\n",
    "        [tok.lower() for tok in books_by_author_tokens[author]])\n",
    "\n",
    "# Combine every paper except our test case into a single corpus\n",
    "whole_corpus = []\n",
    "for author in authors:\n",
    "    whole_corpus += books_by_author_tokens[author]\n",
    "\n",
    "# Get a frequency distribution\n",
    "whole_corpus_freq_dist = list(nltk.FreqDist(whole_corpus).most_common(30))\n",
    "whole_corpus_freq_dist[ :3 ]"
   ]
  },
  {
   "cell_type": "code",
   "execution_count": 98,
   "metadata": {},
   "outputs": [],
   "source": [
    "# The main data structure\n",
    "features = [word for word,freq in whole_corpus_freq_dist]\n",
    "feature_freqs = {}\n",
    "\n",
    "for author in authors:\n",
    "    # A dictionary for each candidate's features\n",
    "    feature_freqs[author] = {}\n",
    "\n",
    "    # A helper value containing the number of tokens in the author's subcorpus\n",
    "    overall = len(books_by_author_tokens[author])\n",
    "\n",
    "    # Calculate each feature's presence in the subcorpus\n",
    "    for feature in features:\n",
    "        presence = books_by_author_tokens[author].count(feature)\n",
    "        feature_freqs[author][feature] = presence / overall"
   ]
  },
  {
   "cell_type": "code",
   "execution_count": 99,
   "metadata": {},
   "outputs": [],
   "source": [
    "import math\n",
    "\n",
    "# The data structure into which we will be storing the \"corpus standard\" statistics\n",
    "corpus_features = {}\n",
    "\n",
    "# For each feature...\n",
    "for feature in features:\n",
    "    # Create a sub-dictionary that will contain the feature's mean\n",
    "    # and standard deviation\n",
    "    corpus_features[feature] = {}\n",
    "\n",
    "    # Calculate the mean of the frequencies expressed in the subcorpora\n",
    "    feature_average = 0\n",
    "    for author in authors:\n",
    "        feature_average += feature_freqs[author][feature]\n",
    "    feature_average /= len(authors)\n",
    "    corpus_features[feature][\"Mean\"] = feature_average\n",
    "\n",
    "    # Calculate the standard deviation using the basic formula for a sample\n",
    "    feature_stdev = 0\n",
    "    for author in authors:\n",
    "        diff = feature_freqs[author][feature] - corpus_features[feature][\"Mean\"]\n",
    "        feature_stdev += diff*diff\n",
    "    feature_stdev /= (len(authors) - 1)\n",
    "    feature_stdev = math.sqrt(feature_stdev)\n",
    "    corpus_features[feature][\"StdDev\"] = feature_stdev"
   ]
  },
  {
   "cell_type": "code",
   "execution_count": 100,
   "metadata": {},
   "outputs": [],
   "source": [
    "feature_zscores = {}\n",
    "for author in authors:\n",
    "    feature_zscores[author] = {}\n",
    "    for feature in features:\n",
    "\n",
    "        # Z-score definition = (value - mean) / stddev\n",
    "        # We use intermediate variables to make the code easier to read\n",
    "        feature_val = feature_freqs[author][feature]\n",
    "        feature_mean = corpus_features[feature][\"Mean\"]\n",
    "        feature_stdev = corpus_features[feature][\"StdDev\"]\n",
    "        feature_zscores[author][feature] = ((feature_val-feature_mean) /\n",
    "                                            feature_stdev)"
   ]
  },
  {
   "cell_type": "code",
   "execution_count": 101,
   "metadata": {},
   "outputs": [
    {
     "name": "stdout",
     "output_type": "stream",
     "text": [
      "Test case z-score for feature the is -1.0754820913966288\n",
      "Test case z-score for feature and is 10.775555060653112\n",
      "Test case z-score for feature a is -1.3132871322678086\n",
      "Test case z-score for feature of is 0.21095161777432678\n",
      "Test case z-score for feature to is 3.0637768712464655\n",
      "Test case z-score for feature he is 0.4578013489122121\n",
      "Test case z-score for feature was is 1.7146665059895867\n",
      "Test case z-score for feature it is 1.9675032959395549\n",
      "Test case z-score for feature i is -41.40690183837475\n",
      "Test case z-score for feature in is -0.5814818697427473\n",
      "Test case z-score for feature his is 1.7124043453904219\n",
      "Test case z-score for feature that is 1.3335734344943508\n",
      "Test case z-score for feature you is -1.1951516212892404\n",
      "Test case z-score for feature had is 1.8777524034505373\n",
      "Test case z-score for feature s is 1.638941067285244\n",
      "Test case z-score for feature on is -0.3811369998033238\n",
      "Test case z-score for feature t is -5.120845166063623\n",
      "Test case z-score for feature she is 0.7563998909506499\n",
      "Test case z-score for feature her is 0.8598927844728804\n",
      "Test case z-score for feature at is -0.04496752503507159\n",
      "Test case z-score for feature but is 0.8848432636633653\n",
      "Test case z-score for feature with is 0.12051948856499906\n",
      "Test case z-score for feature said is 0.45037207053856154\n",
      "Test case z-score for feature as is 0.1636714723785888\n",
      "Test case z-score for feature him is 0.8634681199628952\n",
      "Test case z-score for feature for is 0.9278199423727705\n",
      "Test case z-score for feature they is -1.6226565506618746\n",
      "Test case z-score for feature out is -1.7295212168831418\n",
      "Test case z-score for feature up is 0.2257307016860418\n",
      "Test case z-score for feature there is 3.0178040624436497\n"
     ]
    }
   ],
   "source": [
    "# Tokenize the test case\n",
    "testcase_tokens = nltk.word_tokenize(books_by_author[\"TestCase\"])\n",
    "\n",
    "# Filter out punctuation and lowercase the tokens\n",
    "testcase_tokens = [token.lower() for token in testcase_tokens\n",
    "                   if any(c.isalpha() for c in token)]\n",
    "\n",
    "# Calculate the test case's features\n",
    "overall = len(testcase_tokens)\n",
    "testcase_freqs = {}\n",
    "for feature in features:\n",
    "    presence = testcase_tokens.count(feature)\n",
    "    testcase_freqs[feature] = presence / overall\n",
    "\n",
    "# Calculate the test case's feature z-scores\n",
    "testcase_zscores = {}\n",
    "for feature in features:\n",
    "    feature_val = testcase_freqs[feature]\n",
    "    feature_mean = corpus_features[feature][\"Mean\"]\n",
    "    feature_stdev = corpus_features[feature][\"StdDev\"]\n",
    "    testcase_zscores[feature] = (feature_val - feature_mean) / feature_stdev\n",
    "    print(\"Test case z-score for feature\", feature, \"is\", testcase_zscores[feature])"
   ]
  },
  {
   "cell_type": "code",
   "execution_count": 102,
   "metadata": {},
   "outputs": [
    {
     "name": "stdout",
     "output_type": "stream",
     "text": [
      "Delta score for candidate Stephen is 2.903099107601245\n",
      "Delta score for candidate Richard is 3.0392335945901814\n",
      "Delta score for candidate Disputed is 3.291663727184468\n"
     ]
    }
   ],
   "source": [
    "for author in authors:\n",
    "    delta = 0\n",
    "    for feature in features:\n",
    "        delta += math.fabs((testcase_zscores[feature] -\n",
    "                            feature_zscores[author][feature]))\n",
    "    delta /= len(features)\n",
    "    print( \"Delta score for candidate\", author, \"is\", delta )"
   ]
  }
 ],
 "metadata": {
  "kernelspec": {
   "display_name": "dig_hum",
   "language": "python",
   "name": "python3"
  },
  "language_info": {
   "codemirror_mode": {
    "name": "ipython",
    "version": 3
   },
   "file_extension": ".py",
   "mimetype": "text/x-python",
   "name": "python",
   "nbconvert_exporter": "python",
   "pygments_lexer": "ipython3",
   "version": "3.11.5"
  }
 },
 "nbformat": 4,
 "nbformat_minor": 2
}
