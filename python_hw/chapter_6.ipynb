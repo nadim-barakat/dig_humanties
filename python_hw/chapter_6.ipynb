{
 "cells": [
  {
   "cell_type": "code",
   "execution_count": null,
   "id": "64dc106e",
   "metadata": {},
   "outputs": [],
   "source": [
    "# Chapter 6 HW 6-1, 6-2, 6-3, 6-4, 6-5, 6-7, 6-8, 6-9, 6-11"
   ]
  },
  {
   "cell_type": "code",
   "execution_count": 4,
   "id": "7f099f38",
   "metadata": {},
   "outputs": [
    {
     "name": "stdout",
     "output_type": "stream",
     "text": [
      "first_name john\n",
      "last_name smith\n",
      "age 29\n",
      "city portland\n"
     ]
    }
   ],
   "source": [
    "#6-1\n",
    "person_dict = {\"first_name\":\"john\", \"last_name\":\"smith\", \"age\":29, \"city\":\"portland\"}\n",
    "\n",
    "for key, value in person_dict.items(): \n",
    "    print(key, value)"
   ]
  },
  {
   "cell_type": "code",
   "execution_count": 5,
   "id": "6bbedc24",
   "metadata": {},
   "outputs": [
    {
     "name": "stdout",
     "output_type": "stream",
     "text": [
      "john 21\n",
      "bob 17\n",
      "emma 9\n",
      "steve 7\n",
      "george 23\n"
     ]
    }
   ],
   "source": [
    "#6-2\n",
    "number_dict = {\"john\":21, \"bob\":17, \"emma\":9, \"steve\":7, \"george\":23}\n",
    "\n",
    "for key, value in number_dict.items(): \n",
    "    print(key, value)"
   ]
  },
  {
   "cell_type": "code",
   "execution_count": 9,
   "id": "8c6002d9",
   "metadata": {},
   "outputs": [
    {
     "name": "stdout",
     "output_type": "stream",
     "text": [
      "array: list of values\n",
      "dictionary: key value pairs\n",
      "string: text not number\n",
      "int: numbers\n",
      "loop: does something a few times\n"
     ]
    }
   ],
   "source": [
    "#6-3\n",
    "glossary = {\"array\":\"list of values\", \"dictionary\":\"key value pairs\", \"string\":\"text not number\", \"int\":\"numbers\", \"loop\":\"does something a few times\"}\n",
    "for key, value in glossary.items(): \n",
    "    print(f\"{key}: {value}\")"
   ]
  },
  {
   "cell_type": "code",
   "execution_count": 14,
   "id": "cd424bef",
   "metadata": {},
   "outputs": [
    {
     "name": "stdout",
     "output_type": "stream",
     "text": [
      "array: list of values\n",
      "dictionary: key value pairs\n",
      "string: text not number\n",
      "int: numbers\n",
      "loop: does something a few times\n",
      "float: decimal\n",
      "syntax: coding grammar\n",
      "variable: holds value\n",
      "conditional: branching logic\n",
      "recursion: see recursion\n"
     ]
    }
   ],
   "source": [
    "#6-4\n",
    "updated_glossary = {\"array\":\"list of values\", \"dictionary\":\"key value pairs\", \"string\":\"text not number\", \"int\":\"numbers\", \"loop\":\"does something a few times\", \"float\":\"decimal\", \"syntax\":\"coding grammar\", \"variable\":\"holds value\", \"conditional\":\"branching logic\", \"recursion\":\"see recursion\"}\n",
    "for key, value in updated_glossary.items(): \n",
    "    print(f\"{key}: {value}\")"
   ]
  },
  {
   "cell_type": "code",
   "execution_count": 17,
   "id": "3ddb0f82",
   "metadata": {},
   "outputs": [
    {
     "name": "stdout",
     "output_type": "stream",
     "text": [
      "the nile runs through egpyt\n",
      "the amazon runs through brazil\n",
      "the mississippi runs through usa\n"
     ]
    }
   ],
   "source": [
    "#6-5\n",
    "rivers = {\"nile\":\"egpyt\", \"amazon\":\"brazil\", \"mississippi\":\"usa\"}\n",
    "for key, value in rivers.items(): \n",
    "    print(f\"the {key} runs through {value}\")"
   ]
  },
  {
   "cell_type": "code",
   "execution_count": 25,
   "id": "dd24ae02",
   "metadata": {},
   "outputs": [
    {
     "name": "stdout",
     "output_type": "stream",
     "text": [
      "first_name john\n",
      "last_name smith\n",
      "age 29\n",
      "city portland\n",
      "\n",
      "first_name steve\n",
      "last_name andy\n",
      "age 71\n",
      "city boston\n",
      "\n",
      "first_name steve\n",
      "last_name andy\n",
      "age 71\n",
      "city SF\n",
      "\n"
     ]
    }
   ],
   "source": [
    "#6-7\n",
    "person1_dict = {\"first_name\":\"john\", \"last_name\":\"smith\", \"age\":29, \"city\":\"portland\"}\n",
    "person2_dict = {\"first_name\":\"steve\", \"last_name\":\"andy\", \"age\":71, \"city\":\"boston\"}\n",
    "person3_dict = {\"first_name\":\"steve\", \"last_name\":\"andy\", \"age\":71, \"city\":\"SF\"}\n",
    "\n",
    "people = [person1_dict, person2_dict, person3_dict]\n",
    "\n",
    "for person in people:\n",
    "    for key, value in person.items():\n",
    "        print(key, value)\n",
    "        \n",
    "    print()"
   ]
  },
  {
   "cell_type": "code",
   "execution_count": 27,
   "id": "f5741408",
   "metadata": {},
   "outputs": [
    {
     "name": "stdout",
     "output_type": "stream",
     "text": [
      "type golden retriever\n",
      "owner bob\n",
      "\n",
      "type parrot\n",
      "owner jessica\n",
      "\n"
     ]
    }
   ],
   "source": [
    "#6-8\n",
    "puppy = {\"type\":\"golden retriever\", \"owner\":\"bob\"}\n",
    "sylvester = {\"type\":\"parrot\", \"owner\":\"jessica\"}\n",
    "\n",
    "pets = [puppy, sylvester]\n",
    "\n",
    "for pet in pets: \n",
    "    for key, values in pet.items(): \n",
    "        print(key, values)\n",
    "    print()"
   ]
  },
  {
   "cell_type": "code",
   "execution_count": 30,
   "id": "f1c2ab34",
   "metadata": {},
   "outputs": [
    {
     "name": "stdout",
     "output_type": "stream",
     "text": [
      "john likes to visit egpyt\n",
      "james likes to visit texas\n",
      "steve likes to visit japan\n"
     ]
    }
   ],
   "source": [
    "#6-9\n",
    "fav_places = {\"john\":\"egpyt\", \"james\":\"texas\", \"steve\":\"japan\"}\n",
    "for key, value in fav_places.items(): \n",
    "    print(f\"{key} likes to visit {value}\")"
   ]
  },
  {
   "cell_type": "code",
   "execution_count": 34,
   "id": "45ed4b8d",
   "metadata": {},
   "outputs": [
    {
     "name": "stdout",
     "output_type": "stream",
     "text": [
      "boston\n",
      "country usa\n",
      "population 650000\n",
      "fun fact Tom Brady\n",
      "\n",
      "Tokyo\n",
      "country japan\n",
      "population 13000000\n",
      "fun fact vending machines\n",
      "\n",
      "sydney\n",
      "country australia\n",
      "population 5000000\n",
      "fun fact opera house\n",
      "\n"
     ]
    }
   ],
   "source": [
    "#6-11\n",
    "cities = {\"boston\":{\"country\":\"usa\", \"population\":650000, \"fun fact\":\"Tom Brady\"}, \"Tokyo\":{\"country\":\"japan\", \"population\":13000000, \"fun fact\":\"vending machines\"}, \"sydney\": {\"country\":\"australia\", \"population\":5000000, \"fun fact\":\"opera house\"}}\n",
    "\n",
    "for city_name, info in cities.items():\n",
    "    print(city_name)\n",
    "    for key, value in info.items(): \n",
    "        print(key, value)\n",
    "    print()"
   ]
  }
 ],
 "metadata": {
  "kernelspec": {
   "display_name": "Python 3 (ipykernel)",
   "language": "python",
   "name": "python3"
  },
  "language_info": {
   "codemirror_mode": {
    "name": "ipython",
    "version": 3
   },
   "file_extension": ".py",
   "mimetype": "text/x-python",
   "name": "python",
   "nbconvert_exporter": "python",
   "pygments_lexer": "ipython3",
   "version": "3.11.5"
  }
 },
 "nbformat": 4,
 "nbformat_minor": 5
}
