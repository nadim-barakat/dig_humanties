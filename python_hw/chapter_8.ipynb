{
 "cells": [
  {
   "cell_type": "code",
   "execution_count": null,
   "id": "b18658bd",
   "metadata": {},
   "outputs": [],
   "source": [
    "#8-1, 8-2, 8-3, 8-5, 8-6, 8-7"
   ]
  },
  {
   "cell_type": "code",
   "execution_count": 1,
   "id": "0a3d02bf",
   "metadata": {},
   "outputs": [
    {
     "name": "stdout",
     "output_type": "stream",
     "text": [
      "we are learning about functions\n"
     ]
    }
   ],
   "source": [
    "#8-1\n",
    "def display_message(): \n",
    "    print(\"we are learning about functions\")\n",
    "\n",
    "display_message()"
   ]
  },
  {
   "cell_type": "code",
   "execution_count": 3,
   "id": "4c1ff48d",
   "metadata": {},
   "outputs": [
    {
     "name": "stdout",
     "output_type": "stream",
     "text": [
      "my favorite book is Alice In Wonderland\n"
     ]
    }
   ],
   "source": [
    "#8-2\n",
    "def favorite_book(title): \n",
    "    print(\"my favorite book is\", title)\n",
    "\n",
    "favorite_book(\"Alice In Wonderland\")"
   ]
  },
  {
   "cell_type": "code",
   "execution_count": 5,
   "id": "2dc64690",
   "metadata": {},
   "outputs": [
    {
     "name": "stdout",
     "output_type": "stream",
     "text": [
      "making shirt of size small with words Hello World\n",
      "making shirt of size medium with words Goodbye World\n"
     ]
    }
   ],
   "source": [
    "#8-3\n",
    "def make_shirt(size, text): \n",
    "    print(\"making shirt of size\", size, \"with words\", text)\n",
    "\n",
    "make_shirt(\"small\", \"Hello World\")\n",
    "make_shirt(text = \"Goodbye World\", size = \"medium\")"
   ]
  },
  {
   "cell_type": "code",
   "execution_count": 7,
   "id": "d17c556c",
   "metadata": {},
   "outputs": [
    {
     "name": "stdout",
     "output_type": "stream",
     "text": [
      "Kansas is in USA\n",
      "Dallas is in USA\n",
      "Tokyo is in Japan\n"
     ]
    }
   ],
   "source": [
    "#8-5\n",
    "def describe_city(city, country=\"USA\"): \n",
    "    print(city, \"is in\", country)\n",
    "\n",
    "describe_city(\"Kansas\")\n",
    "describe_city(\"Dallas\")\n",
    "describe_city(\"Tokyo\", \"Japan\")"
   ]
  },
  {
   "cell_type": "code",
   "execution_count": 9,
   "id": "3b53acb1",
   "metadata": {},
   "outputs": [
    {
     "name": "stdout",
     "output_type": "stream",
     "text": [
      "Santiago, Chile\n",
      "Kansas, USA\n",
      "Providence, USA\n"
     ]
    }
   ],
   "source": [
    "#8-6\n",
    "def city_country(city, country):\n",
    "    txt = f\"{city}, {country}\"\n",
    "    return txt\n",
    "\n",
    "print(city_country(\"Santiago\", \"Chile\"))\n",
    "print(city_country(\"Kansas\", \"USA\"))\n",
    "print(city_country(\"Providence\", \"USA\"))"
   ]
  },
  {
   "cell_type": "code",
   "execution_count": 12,
   "id": "fb34aaed",
   "metadata": {},
   "outputs": [
    {
     "name": "stdout",
     "output_type": "stream",
     "text": [
      "{'name': 'Micky Mouse', 'title': 'Clubhouse Song'}\n",
      "{'name': 'Spiderman', 'title': 'Classic Remix'}\n",
      "{'name': 'Batman', 'title': 'Gotham Jam'}\n",
      "{'name': 'Arnold', 'title': 'Classics', 'tracks': 12}\n"
     ]
    }
   ],
   "source": [
    "#8-7 \n",
    "def make_album(name, title, tracks=None):\n",
    "    if tracks: \n",
    "        return {\"name\":name, \"title\":title, \"tracks\":tracks}\n",
    "        \n",
    "    return {\"name\":name, \"title\":title}\n",
    "\n",
    "print(make_album(\"Micky Mouse\", \"Clubhouse Song\"))\n",
    "print(make_album(\"Spiderman\", \"Classic Remix\"))\n",
    "print(make_album(\"Batman\", \"Gotham Jam\"))\n",
    "\n",
    "print(make_album(\"Arnold\", \"Classics\", 12))"
   ]
  }
 ],
 "metadata": {
  "kernelspec": {
   "display_name": "Python 3 (ipykernel)",
   "language": "python",
   "name": "python3"
  },
  "language_info": {
   "codemirror_mode": {
    "name": "ipython",
    "version": 3
   },
   "file_extension": ".py",
   "mimetype": "text/x-python",
   "name": "python",
   "nbconvert_exporter": "python",
   "pygments_lexer": "ipython3",
   "version": "3.11.5"
  }
 },
 "nbformat": 4,
 "nbformat_minor": 5
}
