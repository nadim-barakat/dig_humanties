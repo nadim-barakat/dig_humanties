{
 "cells": [
  {
   "cell_type": "code",
   "execution_count": null,
   "id": "2ef43753",
   "metadata": {},
   "outputs": [],
   "source": [
    "5-1, 5-2, 5-6, 5-7, 5-8, 5-9, 5-10"
   ]
  },
  {
   "cell_type": "code",
   "execution_count": 8,
   "id": "3bf16cd1",
   "metadata": {},
   "outputs": [
    {
     "name": "stdout",
     "output_type": "stream",
     "text": [
      "is fruit == aple? I predict True\n",
      "True\n",
      "True\n",
      "True\n",
      "True\n",
      "True\n",
      "is car == orange? I predict false\n",
      "False\n",
      "False\n",
      "False\n",
      "False\n",
      "False\n"
     ]
    }
   ],
   "source": [
    "#5-1\n",
    "fruit = \"apple\"\n",
    "print(\"is fruit == apple? I predict True\")\n",
    "print(fruit == \"apple\")\n",
    "print(\"dog\" == \"dog\")\n",
    "print(\"Dog\" == \"Dog\")\n",
    "print(3 == 3)\n",
    "print(True == True)\n",
    "print(\"is car == orange? I predict false\")\n",
    "print(fruit == \"orange\")\n",
    "print(fruit == \"Apple\")\n",
    "print(False == True)\n",
    "print(3 == 4)\n",
    "print(\"j\" == \"J\")"
   ]
  },
  {
   "cell_type": "code",
   "execution_count": 16,
   "id": "1d5734be",
   "metadata": {},
   "outputs": [
    {
     "name": "stdout",
     "output_type": "stream",
     "text": [
      "True\n",
      "False\n",
      "True\n",
      "False\n",
      "False\n",
      "True\n",
      "False\n",
      "True\n",
      "True\n",
      "False\n",
      "False\n",
      "True\n"
     ]
    }
   ],
   "source": [
    "#5-2\n",
    "print(\"hello\" == \"hello\")\n",
    "print(\"hello\" == \"Hello\")\n",
    "\n",
    "print(\"john\" == \"JOHN\".lower())\n",
    "print(\"JOHN\" == \"JOHN\".lower())\n",
    "\n",
    "print(3>4)\n",
    "print(4 >= 3)\n",
    "\n",
    "print(True and False)\n",
    "print(True or False)\n",
    "\n",
    "print(\"cat\" in [\"dog\", \"cat\"])\n",
    "print(\"wolf\" in [\"dog\", \"cat\"])\n",
    "print(\"cat\" not in [\"dog\", \"cat\"])\n",
    "print(\"wolf\" not in [\"dog\", \"cat\"])"
   ]
  },
  {
   "cell_type": "code",
   "execution_count": 21,
   "id": "e9386db0",
   "metadata": {},
   "outputs": [
    {
     "name": "stdout",
     "output_type": "stream",
     "text": [
      "they are a teenager\n"
     ]
    }
   ],
   "source": [
    "#5-6\n",
    "age = 17\n",
    "if age < 2:\n",
    "    print(\"they are a baby\")\n",
    "elif age >= 2 and age < 4: \n",
    "    print(\"they are a toddler\")\n",
    "elif age >=4 and age < 13: \n",
    "    print(\"they are a kid\")\n",
    "elif age >= 13 and age < 20: \n",
    "    print(\"they are a teenager\")\n",
    "elif age >= 20 and age < 65: \n",
    "    print(\"they are adult\")\n",
    "else: \n",
    "    print(\"they are elder\")"
   ]
  },
  {
   "cell_type": "code",
   "execution_count": 23,
   "id": "d56c3b8b",
   "metadata": {},
   "outputs": [
    {
     "name": "stdout",
     "output_type": "stream",
     "text": [
      "you really like banana\n",
      "you really like mango\n",
      "you like grapefruit\n"
     ]
    }
   ],
   "source": [
    "#5-7\n",
    "favorite_fruits = [\"banana\", \"apple\", \"orange\", \"grapefruit\", \"passionfruit\", \"mango\"]\n",
    "if \"banana\" in favorite_fruits: \n",
    "    print(\"you really like banana\")\n",
    "if \"jackfruit\" in favorite_fruits:\n",
    "    print(\"you really like jackfruit\")\n",
    "if \"mango\" in favorite_fruits:\n",
    "    print(\"you really like mango\")\n",
    "if \"tea\" in favorite_fruits:\n",
    "    print(\"you really like tea\")\n",
    "if \"grapefruit\" in favorite_fruits:\n",
    "    print(\"you like grapefruit\")"
   ]
  },
  {
   "cell_type": "code",
   "execution_count": 24,
   "id": "ac5ae177",
   "metadata": {},
   "outputs": [
    {
     "name": "stdout",
     "output_type": "stream",
     "text": [
      "hello funny thanks for logging in\n",
      "Hello admin, would you like to see a status report?\n",
      "hello person thanks for logging in\n",
      "hello lol thanks for logging in\n",
      "hello human12 thanks for logging in\n"
     ]
    }
   ],
   "source": [
    "#5-8\n",
    "users = [\"funny\", \"admin\", \"person\", \"lol\", \"human12\"]\n",
    "for user in users: \n",
    "    if user == \"admin\": \n",
    "        print(\"Hello admin, would you like to see a status report?\")\n",
    "    else: \n",
    "        print(f\"hello {user} thanks for logging in\")"
   ]
  },
  {
   "cell_type": "code",
   "execution_count": 25,
   "id": "66e22bc1",
   "metadata": {},
   "outputs": [
    {
     "name": "stdout",
     "output_type": "stream",
     "text": [
      "we need to get some users\n"
     ]
    }
   ],
   "source": [
    "#5-9\n",
    "users = []\n",
    "if len(users) == 0:\n",
    "    print(\"we need to get some users\")\n",
    "    "
   ]
  },
  {
   "cell_type": "code",
   "execution_count": 27,
   "id": "aae04604",
   "metadata": {},
   "outputs": [
    {
     "name": "stdout",
     "output_type": "stream",
     "text": [
      "user1 is already taken\n",
      "person is available\n",
      "admin is available\n",
      "car is already taken\n",
      "laptop is available\n"
     ]
    }
   ],
   "source": [
    "#5-10 \n",
    "current_users = [\"hii\", \"user1\", \"car\", \"chair\", \"desk\"]\n",
    "new_users = [\"user1\", \"person\", \"admin\", \"car\", \"laptop\"]\n",
    "\n",
    "for user in new_users: \n",
    "    if user.lower() in current_users: \n",
    "        print(user + \" is already taken\")\n",
    "    else: \n",
    "        print(user + \" is available\")"
   ]
  }
 ],
 "metadata": {
  "kernelspec": {
   "display_name": "Python 3 (ipykernel)",
   "language": "python",
   "name": "python3"
  },
  "language_info": {
   "codemirror_mode": {
    "name": "ipython",
    "version": 3
   },
   "file_extension": ".py",
   "mimetype": "text/x-python",
   "name": "python",
   "nbconvert_exporter": "python",
   "pygments_lexer": "ipython3",
   "version": "3.11.5"
  }
 },
 "nbformat": 4,
 "nbformat_minor": 5
}
