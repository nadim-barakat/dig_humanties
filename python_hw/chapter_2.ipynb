{
 "cells": [
  {
   "cell_type": "markdown",
   "id": "b6811bda",
   "metadata": {},
   "source": [
    "2.1: Nadim "
   ]
  },
  {
   "cell_type": "code",
   "execution_count": 1,
   "id": "76385a0c",
   "metadata": {},
   "outputs": [
    {
     "name": "stdout",
     "output_type": "stream",
     "text": [
      "nadim\n"
     ]
    }
   ],
   "source": [
    "name = \"nadim\"\n",
    "print(name)"
   ]
  },
  {
   "cell_type": "markdown",
   "id": "34dde50e",
   "metadata": {},
   "source": []
  },
  {
   "cell_type": "code",
   "execution_count": 2,
   "id": "969015a5",
   "metadata": {},
   "outputs": [
    {
     "name": "stdout",
     "output_type": "stream",
     "text": [
      "cat\n",
      "dog\n",
      "Hello John! How are you?\n",
      "eric   ERIC   Eric\n",
      "JFK once said \"ask not what your country can do for you — ask what you can do for your country\" \n",
      "JFK once said 'ask not what your country can do for you — ask what you can do for your country'\n",
      "\tbob\n",
      "\n",
      "bob\n",
      "\n",
      "\tbob\n",
      "bob\n"
     ]
    }
   ],
   "source": [
    "# 2.2 \n",
    "animal = \"cat\"\n",
    "print(animal)\n",
    "animal = \"dog\"\n",
    "print(animal)\n",
    "\n",
    "# 2.3\n",
    "person = \"John\"\n",
    "print(\"Hello \" + person + \"! How are you?\")\n",
    "\n",
    "# 2.4 \n",
    "new_name = \"Eric\"\n",
    "print(new_name.lower(), \" \", new_name.upper(), \" \", new_name.title())\n",
    "\n",
    "# 2.5 \n",
    "print(\"\"\"JFK once said \"ask not what your country can do for you — ask what you can do for your country\" \"\"\")\n",
    "\n",
    "# 2.6 \n",
    "famous_person = \"JFK\"\n",
    "quote = \"'ask not what your country can do for you — ask what you can do for your country'\"\n",
    "print(famous_person, \"once said\", quote)\n",
    "\n",
    "# 2.7 \n",
    "human = \"\\tbob\\n\"\n",
    "print(human)\n",
    "print(human.lstrip())\n",
    "print(human.rstrip())\n",
    "print(human.strip())\n",
    "\n",
    "# 2.10 \n",
    "# see file header "
   ]
  }
 ],
 "metadata": {
  "kernelspec": {
   "display_name": "Python 3 (ipykernel)",
   "language": "python",
   "name": "python3"
  },
  "language_info": {
   "codemirror_mode": {
    "name": "ipython",
    "version": 3
   },
   "file_extension": ".py",
   "mimetype": "text/x-python",
   "name": "python",
   "nbconvert_exporter": "python",
   "pygments_lexer": "ipython3",
   "version": "3.11.5"
  }
 },
 "nbformat": 4,
 "nbformat_minor": 5
}
