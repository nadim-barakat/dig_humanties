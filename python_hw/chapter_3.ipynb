{
 "cells": [
  {
   "cell_type": "code",
   "execution_count": 2,
   "id": "30deb211",
   "metadata": {},
   "outputs": [
    {
     "name": "stdout",
     "output_type": "stream",
     "text": [
      "john\n",
      "emily\n",
      "steve\n"
     ]
    }
   ],
   "source": [
    "# 3.1 \n",
    "names = [\"john\", \"emily\", \"steve\"]\n",
    "for name in names: \n",
    "    print(name)\n"
   ]
  },
  {
   "cell_type": "code",
   "execution_count": 3,
   "id": "cf34a5be",
   "metadata": {},
   "outputs": [
    {
     "name": "stdout",
     "output_type": "stream",
     "text": [
      "hello  john\n",
      "hello  emily\n",
      "hello  steve\n"
     ]
    }
   ],
   "source": [
    "# 3.2\n",
    "for name in names: \n",
    "    print(\"hello \", name)"
   ]
  },
  {
   "cell_type": "code",
   "execution_count": null,
   "id": "b05db1f8",
   "metadata": {},
   "outputs": [],
   "source": [
    "# 3.3 \n",
    "items = [\"chicken\", \"soup\", \"banana\"]\n",
    "for item in items: \n",
    "    print(\"I would like to eat\", item)"
   ]
  },
  {
   "cell_type": "code",
   "execution_count": null,
   "id": "8017f2a3",
   "metadata": {},
   "outputs": [],
   "source": [
    "# 3.4 \n",
    "guests = [\"mom\", \"dad\", \"siblings\"]\n",
    "for guest in guests: \n",
    "    print(\"You are invited to dinner\", guest)"
   ]
  },
  {
   "cell_type": "code",
   "execution_count": null,
   "id": "53b78cfd",
   "metadata": {},
   "outputs": [],
   "source": [
    "# 3.5 \n",
    "guests = [\"bob\", \"joe\", \"siblings\"]\n",
    "for guest in guests: \n",
    "    print(\"You are invited to dinner\", guest)\n",
    "\n",
    "print(guests[2], \"can't make it\")\n",
    "for guest in guests[:-1]:\n",
    "    print(\"you are invited to dinner, \", guest)"
   ]
  },
  {
   "cell_type": "code",
   "execution_count": null,
   "id": "c0d97f38",
   "metadata": {},
   "outputs": [],
   "source": [
    "# 3.6 \n",
    "print(\"we found a bigger table\")\n",
    "guests.insert(0, \"john\")\n",
    "guests.insert(1, \"emily\")\n",
    "guests.append(\"george\")\n",
    "for guest in guests: \n",
    "    print(\"You are invited to dinner\", guest)"
   ]
  },
  {
   "cell_type": "code",
   "execution_count": null,
   "id": "8e1873d6",
   "metadata": {},
   "outputs": [],
   "source": [
    "print()\n",
    "\n",
    "print(\"I can only invite two people\")\n",
    "for guest in guests[2:]:\n",
    "    print(guests[-1], \"you can't come\")\n",
    "    guests.pop()\n",
    "\n",
    "for guest in guests: \n",
    "    print(guest, \"you are still invited\")\n",
    "\n",
    "del guests[0]\n",
    "del guests[0]\n",
    "print(guests)\n",
    "\n",
    "print()\n",
    "print()"
   ]
  },
  {
   "cell_type": "code",
   "execution_count": 4,
   "id": "e38ee3dd",
   "metadata": {},
   "outputs": [
    {
     "name": "stdout",
     "output_type": "stream",
     "text": [
      "['maine', 'japan', 'australia', 'indonesia', 'brazil']\n",
      "['australia', 'brazil', 'indonesia', 'japan', 'maine']\n",
      "['maine', 'japan', 'australia', 'indonesia', 'brazil']\n",
      "['maine', 'japan', 'indonesia', 'brazil', 'australia']\n",
      "['maine', 'japan', 'australia', 'indonesia', 'brazil']\n",
      "['brazil', 'indonesia', 'australia', 'japan', 'maine']\n",
      "['maine', 'japan', 'australia', 'indonesia', 'brazil']\n",
      "['australia', 'brazil', 'indonesia', 'japan', 'maine']\n",
      "['maine', 'japan', 'indonesia', 'brazil', 'australia']\n"
     ]
    }
   ],
   "source": [
    "# 3.8 \n",
    "places = [\"maine\", \"japan\", \"australia\", \"indonesia\", \"brazil\"]\n",
    "print(places)\n",
    "print(sorted(places))\n",
    "print(places)\n",
    "print(sorted(places, reverse=True))\n",
    "print(places)\n",
    "places.reverse()\n",
    "print(places)\n",
    "places.reverse()\n",
    "print(places)\n",
    "places.sort()\n",
    "print(places)\n",
    "places.sort(reverse=True)\n",
    "print(places)\n"
   ]
  }
 ],
 "metadata": {
  "kernelspec": {
   "display_name": "Python 3 (ipykernel)",
   "language": "python",
   "name": "python3"
  },
  "language_info": {
   "codemirror_mode": {
    "name": "ipython",
    "version": 3
   },
   "file_extension": ".py",
   "mimetype": "text/x-python",
   "name": "python",
   "nbconvert_exporter": "python",
   "pygments_lexer": "ipython3",
   "version": "3.11.5"
  }
 },
 "nbformat": 4,
 "nbformat_minor": 5
}
