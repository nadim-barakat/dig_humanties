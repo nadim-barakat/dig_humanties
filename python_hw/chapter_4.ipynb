{
 "cells": [
  {
   "cell_type": "code",
   "execution_count": null,
   "id": "037eaab1",
   "metadata": {},
   "outputs": [],
   "source": [
    "# 4-1 \n",
    "pizzas = [\"cheese\", \"chicken\", \"pineapple\"]\n",
    "for pizza in pizzas: \n",
    "    print(\"I like\", pizza, \"pizza\")\n",
    "print(\"I like all pizzas\")"
   ]
  },
  {
   "cell_type": "code",
   "execution_count": null,
   "id": "5de4755e",
   "metadata": {},
   "outputs": [],
   "source": [
    "# 4-2\n",
    "animals = [\"bird\", \"dog\", \"cat\"]\n",
    "for animal in animals:\n",
    "    print(animal, \"would make a great pet\")\n",
    "print(\"all these would make great pets\")"
   ]
  },
  {
   "cell_type": "code",
   "execution_count": null,
   "id": "850ae6c9",
   "metadata": {},
   "outputs": [],
   "source": [
    "# 4-3\n",
    "for num in range(20): \n",
    "    print(num + 1)"
   ]
  },
  {
   "cell_type": "code",
   "execution_count": null,
   "id": "ef8a49e7",
   "metadata": {},
   "outputs": [],
   "source": [
    "# 4-6\n",
    "for num in range(1, 20, 2):\n",
    "    print(num)"
   ]
  },
  {
   "cell_type": "code",
   "execution_count": null,
   "id": "f160331b",
   "metadata": {},
   "outputs": [],
   "source": [
    "# 4-10 \n",
    "stuff = [\"car\", \"chair\", \"math\", \"notebook\", \"phone\", \"computer\", \"board\"]\n",
    "print(\"the first three are \", stuff[:3])\n",
    "print(\"the middle three are \", stuff[3:6])\n",
    "print(\"the last three are \", stuff[4:])"
   ]
  },
  {
   "cell_type": "code",
   "execution_count": null,
   "id": "32122610",
   "metadata": {},
   "outputs": [],
   "source": [
    "# 4-11\n",
    "pizzas = [\"cheese\", \"chicken\", \"pineapple\"]\n",
    "friends_pizzas = []\n",
    "for pizza in pizzas: \n",
    "    friends_pizzas.append(pizza)\n",
    "\n",
    "pizzas.append(\"pepperoni\")\n",
    "friends_pizzas.append(\"alfredo\")\n",
    "print(\"my favorite pizzas are\")\n",
    "for pizza in pizzas: \n",
    "    print(pizza, end = \", \")\n",
    "\n",
    "print()\n",
    "\n",
    "print(\"my friend favorite pizzas are \")\n",
    "for friend_pizza in friends_pizzas: \n",
    "    print(friend_pizza, end = \", \")"
   ]
  },
  {
   "cell_type": "code",
   "execution_count": null,
   "id": "041acfc4",
   "metadata": {},
   "outputs": [],
   "source": []
  }
 ],
 "metadata": {
  "kernelspec": {
   "display_name": "Python 3 (ipykernel)",
   "language": "python",
   "name": "python3"
  },
  "language_info": {
   "codemirror_mode": {
    "name": "ipython",
    "version": 3
   },
   "file_extension": ".py",
   "mimetype": "text/x-python",
   "name": "python",
   "nbconvert_exporter": "python",
   "pygments_lexer": "ipython3",
   "version": "3.11.5"
  }
 },
 "nbformat": 4,
 "nbformat_minor": 5
}
